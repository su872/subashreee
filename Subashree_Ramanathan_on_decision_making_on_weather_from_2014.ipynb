{
  "cells": [
    {
      "cell_type": "markdown",
      "source": [
        "weather dataset"
      ],
      "metadata": {
        "id": "aCTBovADtiL4"
      }
    },
    {
      "cell_type": "markdown",
      "metadata": {
        "id": "79xYm-lCljUq"
      },
      "source": [
        "Decision  tree making"
      ]
    },
    {
      "cell_type": "markdown",
      "metadata": {
        "id": "NWhtNZzGljUs"
      },
      "source": [
        "import libaries"
      ]
    },
    {
      "cell_type": "markdown",
      "metadata": {
        "id": "Ah1J7MKeljUs"
      },
      "source": [
        "Importing of libaries for  download set, testing accuracy, spilting of data"
      ]
    },
    {
      "cell_type": "code",
      "execution_count": null,
      "metadata": {
        "id": "njE6WtN9ljUt"
      },
      "outputs": [],
      "source": [
        "import pandas as pd\n",
        "from sklearn.metrics import accuracy_score\n",
        "from sklearn.model_selection import train_test_split\n",
        "from sklearn.tree import DecisionTreeClassifier"
      ]
    },
    {
      "cell_type": "markdown",
      "metadata": {
        "id": "haGSOLYUljUt"
      },
      "source": [
        "**reading** of csv"
      ]
    },
    {
      "cell_type": "code",
      "execution_count": null,
      "metadata": {
        "id": "KFJu01_IljUt"
      },
      "outputs": [],
      "source": [
        "data = pd.read_csv('./daily_weather.csv')"
      ]
    },
    {
      "cell_type": "markdown",
      "metadata": {
        "id": "nZs6gTuVljUu"
      },
      "source": []
    },
    {
      "cell_type": "markdown",
      "metadata": {
        "id": "Lk15qdTSljUu"
      },
      "source": [
        "Enter data coloumns"
      ]
    },
    {
      "cell_type": "code",
      "execution_count": null,
      "metadata": {
        "id": "YyX3uJwQljUu",
        "outputId": "c1a83b45-689d-4d43-c454-2d133d6c7b50"
      },
      "outputs": [
        {
          "data": {
            "text/plain": [
              "Index(['number', 'air_pressure_9am', 'air_temp_9am', 'avg_wind_direction_9am',\n",
              "       'avg_wind_speed_9am', 'max_wind_direction_9am', 'max_wind_speed_9am',\n",
              "       'rain_accumulation_9am', 'rain_duration_9am', 'relative_humidity_9am',\n",
              "       'relative_humidity_3pm'],\n",
              "      dtype='object')"
            ]
          },
          "execution_count": 134,
          "metadata": {},
          "output_type": "execute_result"
        }
      ],
      "source": [
        "data.columns"
      ]
    },
    {
      "cell_type": "code",
      "execution_count": null,
      "metadata": {
        "id": "yUE58iPjljUv",
        "outputId": "58f0dca1-eeb3-41ba-d6a9-734dc6ee6333"
      },
      "outputs": [
        {
          "data": {
            "text/html": [
              "<div>\n",
              "<style scoped>\n",
              "    .dataframe tbody tr th:only-of-type {\n",
              "        vertical-align: middle;\n",
              "    }\n",
              "\n",
              "    .dataframe tbody tr th {\n",
              "        vertical-align: top;\n",
              "    }\n",
              "\n",
              "    .dataframe thead th {\n",
              "        text-align: right;\n",
              "    }\n",
              "</style>\n",
              "<table border=\"1\" class=\"dataframe\">\n",
              "  <thead>\n",
              "    <tr style=\"text-align: right;\">\n",
              "      <th></th>\n",
              "      <th>number</th>\n",
              "      <th>air_pressure_9am</th>\n",
              "      <th>air_temp_9am</th>\n",
              "      <th>avg_wind_direction_9am</th>\n",
              "      <th>avg_wind_speed_9am</th>\n",
              "      <th>max_wind_direction_9am</th>\n",
              "      <th>max_wind_speed_9am</th>\n",
              "      <th>rain_accumulation_9am</th>\n",
              "      <th>rain_duration_9am</th>\n",
              "      <th>relative_humidity_9am</th>\n",
              "      <th>relative_humidity_3pm</th>\n",
              "    </tr>\n",
              "  </thead>\n",
              "  <tbody>\n",
              "    <tr>\n",
              "      <th>0</th>\n",
              "      <td>0</td>\n",
              "      <td>918.060000</td>\n",
              "      <td>74.822000</td>\n",
              "      <td>271.100000</td>\n",
              "      <td>2.080354</td>\n",
              "      <td>295.400000</td>\n",
              "      <td>2.863283</td>\n",
              "      <td>0.0</td>\n",
              "      <td>0.0</td>\n",
              "      <td>42.420000</td>\n",
              "      <td>36.160000</td>\n",
              "    </tr>\n",
              "    <tr>\n",
              "      <th>1</th>\n",
              "      <td>1</td>\n",
              "      <td>917.347688</td>\n",
              "      <td>71.403843</td>\n",
              "      <td>101.935179</td>\n",
              "      <td>2.443009</td>\n",
              "      <td>140.471548</td>\n",
              "      <td>3.533324</td>\n",
              "      <td>0.0</td>\n",
              "      <td>0.0</td>\n",
              "      <td>24.328697</td>\n",
              "      <td>19.426597</td>\n",
              "    </tr>\n",
              "    <tr>\n",
              "      <th>2</th>\n",
              "      <td>2</td>\n",
              "      <td>923.040000</td>\n",
              "      <td>60.638000</td>\n",
              "      <td>51.000000</td>\n",
              "      <td>17.067852</td>\n",
              "      <td>63.700000</td>\n",
              "      <td>22.100967</td>\n",
              "      <td>0.0</td>\n",
              "      <td>20.0</td>\n",
              "      <td>8.900000</td>\n",
              "      <td>14.460000</td>\n",
              "    </tr>\n",
              "    <tr>\n",
              "      <th>3</th>\n",
              "      <td>3</td>\n",
              "      <td>920.502751</td>\n",
              "      <td>70.138895</td>\n",
              "      <td>198.832133</td>\n",
              "      <td>4.337363</td>\n",
              "      <td>211.203341</td>\n",
              "      <td>5.190045</td>\n",
              "      <td>0.0</td>\n",
              "      <td>0.0</td>\n",
              "      <td>12.189102</td>\n",
              "      <td>12.742547</td>\n",
              "    </tr>\n",
              "    <tr>\n",
              "      <th>4</th>\n",
              "      <td>4</td>\n",
              "      <td>921.160000</td>\n",
              "      <td>44.294000</td>\n",
              "      <td>277.800000</td>\n",
              "      <td>1.856660</td>\n",
              "      <td>136.500000</td>\n",
              "      <td>2.863283</td>\n",
              "      <td>8.9</td>\n",
              "      <td>14730.0</td>\n",
              "      <td>92.410000</td>\n",
              "      <td>76.740000</td>\n",
              "    </tr>\n",
              "  </tbody>\n",
              "</table>\n",
              "</div>"
            ],
            "text/plain": [
              "   number  air_pressure_9am  air_temp_9am  avg_wind_direction_9am  \\\n",
              "0       0        918.060000     74.822000              271.100000   \n",
              "1       1        917.347688     71.403843              101.935179   \n",
              "2       2        923.040000     60.638000               51.000000   \n",
              "3       3        920.502751     70.138895              198.832133   \n",
              "4       4        921.160000     44.294000              277.800000   \n",
              "\n",
              "   avg_wind_speed_9am  max_wind_direction_9am  max_wind_speed_9am  \\\n",
              "0            2.080354              295.400000            2.863283   \n",
              "1            2.443009              140.471548            3.533324   \n",
              "2           17.067852               63.700000           22.100967   \n",
              "3            4.337363              211.203341            5.190045   \n",
              "4            1.856660              136.500000            2.863283   \n",
              "\n",
              "   rain_accumulation_9am  rain_duration_9am  relative_humidity_9am  \\\n",
              "0                    0.0                0.0              42.420000   \n",
              "1                    0.0                0.0              24.328697   \n",
              "2                    0.0               20.0               8.900000   \n",
              "3                    0.0                0.0              12.189102   \n",
              "4                    8.9            14730.0              92.410000   \n",
              "\n",
              "   relative_humidity_3pm  \n",
              "0              36.160000  \n",
              "1              19.426597  \n",
              "2              14.460000  \n",
              "3              12.742547  \n",
              "4              76.740000  "
            ]
          },
          "execution_count": 135,
          "metadata": {},
          "output_type": "execute_result"
        }
      ],
      "source": [
        "data.head()"
      ]
    },
    {
      "cell_type": "markdown",
      "metadata": {
        "id": "mowc5drvljUv"
      },
      "source": [
        "Checking is there exists null values in the dataset or not"
      ]
    },
    {
      "cell_type": "code",
      "execution_count": null,
      "metadata": {
        "id": "3rI8I9XiljUv",
        "outputId": "9a4ee0a3-8655-4421-f6a2-ada615b9b22e"
      },
      "outputs": [
        {
          "data": {
            "text/html": [
              "<div>\n",
              "<style scoped>\n",
              "    .dataframe tbody tr th:only-of-type {\n",
              "        vertical-align: middle;\n",
              "    }\n",
              "\n",
              "    .dataframe tbody tr th {\n",
              "        vertical-align: top;\n",
              "    }\n",
              "\n",
              "    .dataframe thead th {\n",
              "        text-align: right;\n",
              "    }\n",
              "</style>\n",
              "<table border=\"1\" class=\"dataframe\">\n",
              "  <thead>\n",
              "    <tr style=\"text-align: right;\">\n",
              "      <th></th>\n",
              "      <th>number</th>\n",
              "      <th>air_pressure_9am</th>\n",
              "      <th>air_temp_9am</th>\n",
              "      <th>avg_wind_direction_9am</th>\n",
              "      <th>avg_wind_speed_9am</th>\n",
              "      <th>max_wind_direction_9am</th>\n",
              "      <th>max_wind_speed_9am</th>\n",
              "      <th>rain_accumulation_9am</th>\n",
              "      <th>rain_duration_9am</th>\n",
              "      <th>relative_humidity_9am</th>\n",
              "      <th>relative_humidity_3pm</th>\n",
              "    </tr>\n",
              "  </thead>\n",
              "  <tbody>\n",
              "    <tr>\n",
              "      <th>16</th>\n",
              "      <td>16</td>\n",
              "      <td>917.890000</td>\n",
              "      <td>NaN</td>\n",
              "      <td>169.200000</td>\n",
              "      <td>2.192201</td>\n",
              "      <td>196.800000</td>\n",
              "      <td>2.930391</td>\n",
              "      <td>0.0</td>\n",
              "      <td>0.0</td>\n",
              "      <td>48.990000</td>\n",
              "      <td>51.190000</td>\n",
              "    </tr>\n",
              "    <tr>\n",
              "      <th>111</th>\n",
              "      <td>111</td>\n",
              "      <td>915.290000</td>\n",
              "      <td>58.820000</td>\n",
              "      <td>182.600000</td>\n",
              "      <td>15.613841</td>\n",
              "      <td>189.000000</td>\n",
              "      <td>NaN</td>\n",
              "      <td>0.0</td>\n",
              "      <td>0.0</td>\n",
              "      <td>21.500000</td>\n",
              "      <td>29.690000</td>\n",
              "    </tr>\n",
              "    <tr>\n",
              "      <th>177</th>\n",
              "      <td>177</td>\n",
              "      <td>915.900000</td>\n",
              "      <td>NaN</td>\n",
              "      <td>183.300000</td>\n",
              "      <td>4.719943</td>\n",
              "      <td>189.900000</td>\n",
              "      <td>5.346287</td>\n",
              "      <td>0.0</td>\n",
              "      <td>0.0</td>\n",
              "      <td>29.260000</td>\n",
              "      <td>46.500000</td>\n",
              "    </tr>\n",
              "    <tr>\n",
              "      <th>262</th>\n",
              "      <td>262</td>\n",
              "      <td>923.596607</td>\n",
              "      <td>58.380598</td>\n",
              "      <td>47.737753</td>\n",
              "      <td>10.636273</td>\n",
              "      <td>67.145843</td>\n",
              "      <td>13.671423</td>\n",
              "      <td>0.0</td>\n",
              "      <td>NaN</td>\n",
              "      <td>17.990876</td>\n",
              "      <td>16.461685</td>\n",
              "    </tr>\n",
              "    <tr>\n",
              "      <th>277</th>\n",
              "      <td>277</td>\n",
              "      <td>920.480000</td>\n",
              "      <td>62.600000</td>\n",
              "      <td>194.400000</td>\n",
              "      <td>2.751436</td>\n",
              "      <td>NaN</td>\n",
              "      <td>3.869906</td>\n",
              "      <td>0.0</td>\n",
              "      <td>0.0</td>\n",
              "      <td>52.580000</td>\n",
              "      <td>54.030000</td>\n",
              "    </tr>\n",
              "  </tbody>\n",
              "</table>\n",
              "</div>"
            ],
            "text/plain": [
              "     number  air_pressure_9am  air_temp_9am  avg_wind_direction_9am  \\\n",
              "16       16        917.890000           NaN              169.200000   \n",
              "111     111        915.290000     58.820000              182.600000   \n",
              "177     177        915.900000           NaN              183.300000   \n",
              "262     262        923.596607     58.380598               47.737753   \n",
              "277     277        920.480000     62.600000              194.400000   \n",
              "\n",
              "     avg_wind_speed_9am  max_wind_direction_9am  max_wind_speed_9am  \\\n",
              "16             2.192201              196.800000            2.930391   \n",
              "111           15.613841              189.000000                 NaN   \n",
              "177            4.719943              189.900000            5.346287   \n",
              "262           10.636273               67.145843           13.671423   \n",
              "277            2.751436                     NaN            3.869906   \n",
              "\n",
              "     rain_accumulation_9am  rain_duration_9am  relative_humidity_9am  \\\n",
              "16                     0.0                0.0              48.990000   \n",
              "111                    0.0                0.0              21.500000   \n",
              "177                    0.0                0.0              29.260000   \n",
              "262                    0.0                NaN              17.990876   \n",
              "277                    0.0                0.0              52.580000   \n",
              "\n",
              "     relative_humidity_3pm  \n",
              "16               51.190000  \n",
              "111              29.690000  \n",
              "177              46.500000  \n",
              "262              16.461685  \n",
              "277              54.030000  "
            ]
          },
          "execution_count": 136,
          "metadata": {},
          "output_type": "execute_result"
        }
      ],
      "source": [
        "data[data.isnull().any(axis=1)].head()"
      ]
    },
    {
      "cell_type": "markdown",
      "metadata": {
        "id": "qwMIunwBljUv"
      },
      "source": [
        "Null sets"
      ]
    },
    {
      "cell_type": "markdown",
      "metadata": {
        "id": "1f0fBiJKljUw"
      },
      "source": [
        "Enter of null sets"
      ]
    },
    {
      "cell_type": "code",
      "execution_count": null,
      "metadata": {
        "id": "1Py1pkQLljUw"
      },
      "outputs": [],
      "source": [
        "del data['number']"
      ]
    },
    {
      "cell_type": "markdown",
      "metadata": {
        "id": "WtCiWuQmljUw"
      },
      "source": [
        "Priniting of rows"
      ]
    },
    {
      "cell_type": "code",
      "execution_count": null,
      "metadata": {
        "id": "PGF4bWJaljUw",
        "outputId": "b7f727c3-7af4-4b01-c584-8b48943aaab0"
      },
      "outputs": [
        {
          "name": "stdout",
          "output_type": "stream",
          "text": [
            "1095\n"
          ]
        }
      ],
      "source": [
        "before_rows = data.shape[0]\n",
        "print(before_rows)"
      ]
    },
    {
      "cell_type": "markdown",
      "metadata": {
        "id": "Cv41fb2YljUw"
      },
      "source": [
        "\n",
        "\n",
        "---\n",
        "\n"
      ]
    },
    {
      "cell_type": "code",
      "execution_count": null,
      "metadata": {
        "id": "UdBOJTSVljUw"
      },
      "outputs": [],
      "source": [
        "data = data.dropna()"
      ]
    },
    {
      "cell_type": "markdown",
      "metadata": {
        "id": "WrtmDhNCljUw"
      },
      "source": [
        "\n",
        "\n",
        "---\n",
        "\n"
      ]
    },
    {
      "cell_type": "code",
      "execution_count": null,
      "metadata": {
        "id": "r7Fi7nfbljUw",
        "outputId": "cc20560f-c8e8-4e83-ac5c-dd7e048de469"
      },
      "outputs": [
        {
          "name": "stdout",
          "output_type": "stream",
          "text": [
            "1064\n"
          ]
        }
      ],
      "source": [
        "after_rows = data.shape[0]\n",
        "print(after_rows)"
      ]
    },
    {
      "cell_type": "markdown",
      "metadata": {
        "id": "-Y1UCW2pljUw"
      },
      "source": []
    },
    {
      "cell_type": "code",
      "execution_count": null,
      "metadata": {
        "id": "IGNwuImkljUx",
        "outputId": "17b77248-0b3d-4e7a-cffe-6085196f88f6"
      },
      "outputs": [
        {
          "data": {
            "text/plain": [
              "31"
            ]
          },
          "execution_count": 141,
          "metadata": {},
          "output_type": "execute_result"
        }
      ],
      "source": [
        "before_rows - after_rows"
      ]
    },
    {
      "cell_type": "markdown",
      "metadata": {
        "id": "bRcIvTA8ljUx"
      },
      "source": [
        "Cleaning of data"
      ]
    },
    {
      "cell_type": "code",
      "execution_count": null,
      "metadata": {
        "id": "UYLY3oV3ljUx",
        "outputId": "5b4af062-c352-4eb3-f0f8-cd9200d036f7"
      },
      "outputs": [
        {
          "data": {
            "text/plain": [
              "0    1\n",
              "1    0\n",
              "2    0\n",
              "3    0\n",
              "4    1\n",
              "Name: high_humidity_label, dtype: int32"
            ]
          },
          "execution_count": 142,
          "metadata": {},
          "output_type": "execute_result"
        }
      ],
      "source": [
        "clean_data = data.copy()\n",
        "clean_data['high_humidity_label'] = (clean_data['relative_humidity_3pm'] >24.99) *1\n",
        "clean_data['high_humidity_label'].head()"
      ]
    },
    {
      "cell_type": "code",
      "source": [],
      "metadata": {
        "id": "E9LFfLFbmpX_"
      },
      "execution_count": null,
      "outputs": []
    },
    {
      "cell_type": "code",
      "execution_count": null,
      "metadata": {
        "id": "7KfwaTpMljUx",
        "outputId": "0b3b5fbc-6cce-4567-fc70-9e10e78f5656"
      },
      "outputs": [
        {
          "data": {
            "text/html": [
              "<div>\n",
              "<style scoped>\n",
              "    .dataframe tbody tr th:only-of-type {\n",
              "        vertical-align: middle;\n",
              "    }\n",
              "\n",
              "    .dataframe tbody tr th {\n",
              "        vertical-align: top;\n",
              "    }\n",
              "\n",
              "    .dataframe thead th {\n",
              "        text-align: right;\n",
              "    }\n",
              "</style>\n",
              "<table border=\"1\" class=\"dataframe\">\n",
              "  <thead>\n",
              "    <tr style=\"text-align: right;\">\n",
              "      <th></th>\n",
              "      <th>high_humidity_label</th>\n",
              "    </tr>\n",
              "  </thead>\n",
              "  <tbody>\n",
              "    <tr>\n",
              "      <th>0</th>\n",
              "      <td>1</td>\n",
              "    </tr>\n",
              "    <tr>\n",
              "      <th>1</th>\n",
              "      <td>0</td>\n",
              "    </tr>\n",
              "    <tr>\n",
              "      <th>2</th>\n",
              "      <td>0</td>\n",
              "    </tr>\n",
              "    <tr>\n",
              "      <th>3</th>\n",
              "      <td>0</td>\n",
              "    </tr>\n",
              "    <tr>\n",
              "      <th>4</th>\n",
              "      <td>1</td>\n",
              "    </tr>\n",
              "  </tbody>\n",
              "</table>\n",
              "</div>"
            ],
            "text/plain": [
              "   high_humidity_label\n",
              "0                    1\n",
              "1                    0\n",
              "2                    0\n",
              "3                    0\n",
              "4                    1"
            ]
          },
          "execution_count": 143,
          "metadata": {},
          "output_type": "execute_result"
        }
      ],
      "source": [
        "y = clean_data[['high_humidity_label']].copy()\n",
        "y.head()"
      ]
    },
    {
      "cell_type": "code",
      "execution_count": null,
      "metadata": {
        "id": "t1tmkDK_ljUx",
        "outputId": "44a2b2ad-cdf6-42cf-872b-0fb18a08e44c"
      },
      "outputs": [
        {
          "data": {
            "text/plain": [
              "0    36.160000\n",
              "1    19.426597\n",
              "2    14.460000\n",
              "3    12.742547\n",
              "4    76.740000\n",
              "Name: relative_humidity_3pm, dtype: float64"
            ]
          },
          "execution_count": 144,
          "metadata": {},
          "output_type": "execute_result"
        }
      ],
      "source": [
        "clean_data['relative_humidity_3pm'].head()"
      ]
    },
    {
      "cell_type": "code",
      "execution_count": null,
      "metadata": {
        "id": "nabnCP24ljUx",
        "outputId": "0c2cee36-bdd3-4bf3-cf04-21b290808586"
      },
      "outputs": [
        {
          "data": {
            "text/html": [
              "<div>\n",
              "<style scoped>\n",
              "    .dataframe tbody tr th:only-of-type {\n",
              "        vertical-align: middle;\n",
              "    }\n",
              "\n",
              "    .dataframe tbody tr th {\n",
              "        vertical-align: top;\n",
              "    }\n",
              "\n",
              "    .dataframe thead th {\n",
              "        text-align: right;\n",
              "    }\n",
              "</style>\n",
              "<table border=\"1\" class=\"dataframe\">\n",
              "  <thead>\n",
              "    <tr style=\"text-align: right;\">\n",
              "      <th></th>\n",
              "      <th>high_humidity_label</th>\n",
              "    </tr>\n",
              "  </thead>\n",
              "  <tbody>\n",
              "    <tr>\n",
              "      <th>0</th>\n",
              "      <td>1</td>\n",
              "    </tr>\n",
              "    <tr>\n",
              "      <th>1</th>\n",
              "      <td>0</td>\n",
              "    </tr>\n",
              "    <tr>\n",
              "      <th>2</th>\n",
              "      <td>0</td>\n",
              "    </tr>\n",
              "    <tr>\n",
              "      <th>3</th>\n",
              "      <td>0</td>\n",
              "    </tr>\n",
              "    <tr>\n",
              "      <th>4</th>\n",
              "      <td>1</td>\n",
              "    </tr>\n",
              "  </tbody>\n",
              "</table>\n",
              "</div>"
            ],
            "text/plain": [
              "   high_humidity_label\n",
              "0                    1\n",
              "1                    0\n",
              "2                    0\n",
              "3                    0\n",
              "4                    1"
            ]
          },
          "execution_count": 145,
          "metadata": {},
          "output_type": "execute_result"
        }
      ],
      "source": [
        "y.head()"
      ]
    },
    {
      "cell_type": "markdown",
      "metadata": {
        "id": "Z9e12D7jljUx"
      },
      "source": [
        "\n",
        "Explain of Features of morning temperature"
      ]
    },
    {
      "cell_type": "markdown",
      "metadata": {
        "id": "baiEv4xDljUy"
      },
      "source": []
    },
    {
      "cell_type": "code",
      "execution_count": null,
      "metadata": {
        "id": "DzTx5SDoljUy"
      },
      "outputs": [],
      "source": [
        "morning_features = ['air_pressure_9am', 'air_temp_9am', 'avg_wind_direction_9am',\n",
        "       'avg_wind_speed_9am', 'max_wind_direction_9am', 'max_wind_speed_9am',\n",
        "       'rain_accumulation_9am', 'rain_duration_9am', 'relative_humidity_9am']"
      ]
    },
    {
      "cell_type": "markdown",
      "metadata": {
        "id": "ktZ69yXkljUy"
      },
      "source": [
        "Copying the values from the clean_data dataset to new dataset x which only consist of the Morning Feature Data"
      ]
    },
    {
      "cell_type": "code",
      "execution_count": null,
      "metadata": {
        "id": "FM6O_w2VljUy",
        "outputId": "cb108d93-90bd-4676-b455-2d4f0784867d"
      },
      "outputs": [
        {
          "data": {
            "text/plain": [
              "Index(['air_pressure_9am', 'air_temp_9am', 'avg_wind_direction_9am',\n",
              "       'avg_wind_speed_9am', 'max_wind_direction_9am', 'max_wind_speed_9am',\n",
              "       'rain_accumulation_9am', 'rain_duration_9am', 'relative_humidity_9am'],\n",
              "      dtype='object')"
            ]
          },
          "execution_count": 147,
          "metadata": {},
          "output_type": "execute_result"
        }
      ],
      "source": [
        "x=clean_data[morning_features].copy()\n",
        "x.columns"
      ]
    },
    {
      "cell_type": "code",
      "execution_count": null,
      "metadata": {
        "id": "6JpbVQxvljUy",
        "outputId": "319194b6-0101-4abe-bc87-7daad6beea7c"
      },
      "outputs": [
        {
          "data": {
            "text/plain": [
              "Index(['high_humidity_label'], dtype='object')"
            ]
          },
          "execution_count": 148,
          "metadata": {},
          "output_type": "execute_result"
        }
      ],
      "source": [
        "y.columns"
      ]
    },
    {
      "cell_type": "markdown",
      "metadata": {
        "id": "gcQWDJrOljUy"
      },
      "source": [
        "<p style=\"font-family: Arial; font-size:1.75em;color:blue; font-style:bold\"><br>\n",
        "\n",
        "Perform Test and Train split\n",
        "\n",
        "<br><br></p>\n"
      ]
    },
    {
      "cell_type": "markdown",
      "metadata": {
        "id": "ADEzPs_HljUy"
      },
      "source": [
        "By using train_test_split we have split the data into traing dataset and testing datasets."
      ]
    },
    {
      "cell_type": "code",
      "execution_count": null,
      "metadata": {
        "id": "d1mGTrxEljUy"
      },
      "outputs": [],
      "source": [
        "X_train,X_test,y_train,y_test = train_test_split(x,y,test_size=0.33,random_state=324)"
      ]
    },
    {
      "cell_type": "markdown",
      "metadata": {
        "id": "XJuOHFlUljUy"
      },
      "source": [
        "<p style=\"font-family: Arial; font-size:1.75em;color:blue; font-style:bold\"><br>\n",
        "\n",
        "Fit on Train Set\n",
        "<br><br></p>\n"
      ]
    },
    {
      "cell_type": "markdown",
      "metadata": {
        "id": "Cg_Ry1bxljUz"
      },
      "source": [
        "We have made a classifier for making the Decision Tree and to train the data using this classifier"
      ]
    },
    {
      "cell_type": "code",
      "execution_count": null,
      "metadata": {
        "id": "Ih6ThuENljU9",
        "outputId": "978974f7-59ae-4f92-dcd8-a6312e225b72"
      },
      "outputs": [
        {
          "data": {
            "text/plain": [
              "DecisionTreeClassifier(class_weight=None, criterion='gini', max_depth=None,\n",
              "            max_features=None, max_leaf_nodes=10,\n",
              "            min_impurity_decrease=0.0, min_impurity_split=None,\n",
              "            min_samples_leaf=1, min_samples_split=2,\n",
              "            min_weight_fraction_leaf=0.0, presort=False, random_state=0,\n",
              "            splitter='best')"
            ]
          },
          "execution_count": 150,
          "metadata": {},
          "output_type": "execute_result"
        }
      ],
      "source": [
        "humidity_classifier = DecisionTreeClassifier(max_leaf_nodes=10,random_state=0)\n",
        "humidity_classifier.fit(X_train,y_train)"
      ]
    },
    {
      "cell_type": "code",
      "execution_count": null,
      "metadata": {
        "id": "OKniU8O7ljU-",
        "outputId": "6e496212-68ba-4f3e-ab8e-4f5751f4a78e"
      },
      "outputs": [
        {
          "data": {
            "text/plain": [
              "sklearn.tree.tree.DecisionTreeClassifier"
            ]
          },
          "execution_count": 151,
          "metadata": {},
          "output_type": "execute_result"
        }
      ],
      "source": [
        "type(humidity_classifier)"
      ]
    },
    {
      "cell_type": "markdown",
      "metadata": {
        "id": "FAjw0wVbljU-"
      },
      "source": [
        "<p style=\"font-family: Arial; font-size:1.75em;color:blue; font-style:bold\"><br>\n",
        "\n",
        "Predict on Test Set\n",
        "\n",
        "<br><br></p>\n"
      ]
    },
    {
      "cell_type": "markdown",
      "metadata": {
        "id": "Hp148MLSljU-"
      },
      "source": [
        "Using humidity_classifier we have predicted the value for the X_test and stored it to y_predicted"
      ]
    },
    {
      "cell_type": "code",
      "execution_count": null,
      "metadata": {
        "id": "ACuLlSYUljU-"
      },
      "outputs": [],
      "source": [
        "y_predicted = humidity_classifier.predict(X_test)"
      ]
    },
    {
      "cell_type": "code",
      "execution_count": null,
      "metadata": {
        "id": "SA7Te-ZAljU-",
        "outputId": "d5f3d1be-a57f-475b-a788-2eca3ee821b7"
      },
      "outputs": [
        {
          "data": {
            "text/plain": [
              "array([0, 0, 1, 1, 1, 1, 1, 0, 1, 1])"
            ]
          },
          "execution_count": 153,
          "metadata": {},
          "output_type": "execute_result"
        }
      ],
      "source": [
        "y_predicted[:10]"
      ]
    },
    {
      "cell_type": "code",
      "execution_count": null,
      "metadata": {
        "id": "Y9UFLNZMljU-",
        "outputId": "0407d648-76fb-4a9d-9743-9ab19419f2ab"
      },
      "outputs": [
        {
          "data": {
            "text/plain": [
              "456     0\n",
              "845     0\n",
              "693     1\n",
              "259     1\n",
              "723     1\n",
              "224     1\n",
              "300     1\n",
              "442     0\n",
              "585     1\n",
              "1057    1\n",
              "Name: high_humidity_label, dtype: int32"
            ]
          },
          "execution_count": 154,
          "metadata": {},
          "output_type": "execute_result"
        }
      ],
      "source": [
        "y_test['high_humidity_label'][:10]"
      ]
    },
    {
      "cell_type": "markdown",
      "metadata": {
        "id": "UQLJugEEljU_"
      },
      "source": [
        "checking of data\n"
      ]
    },
    {
      "cell_type": "markdown",
      "metadata": {
        "id": "GhEnFa6VljU_"
      },
      "source": [
        "accuray of data"
      ]
    },
    {
      "cell_type": "code",
      "execution_count": null,
      "metadata": {
        "id": "qUKDAfI3ljU_",
        "outputId": "8ea77d39-d727-4780-e808-770f34f222f8"
      },
      "outputs": [
        {
          "data": {
            "text/plain": [
              "90.05681818181817"
            ]
          },
          "execution_count": 155,
          "metadata": {},
          "output_type": "execute_result"
        }
      ],
      "source": [
        "accuracy_score(y_test,y_predicted)*100"
      ]
    }
  ],
  "metadata": {
    "kernelspec": {
      "display_name": "Python 3",
      "language": "python",
      "name": "python3"
    },
    "language_info": {
      "codemirror_mode": {
        "name": "ipython",
        "version": 3
      },
      "file_extension": ".py",
      "mimetype": "text/x-python",
      "name": "python",
      "nbconvert_exporter": "python",
      "pygments_lexer": "ipython3",
      "version": "3.6.5"
    },
    "colab": {
      "provenance": []
    }
  },
  "nbformat": 4,
  "nbformat_minor": 0
}